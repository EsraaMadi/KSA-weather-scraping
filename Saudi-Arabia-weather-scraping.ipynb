{
 "cells": [
  {
   "cell_type": "markdown",
   "metadata": {},
   "source": [
    "# Historical weather status for Saudi Arabia cities\n",
    "_Auther: Esraa Madi_\n",
    "\n",
    "\n",
    "-------"
   ]
  },
  {
   "cell_type": "markdown",
   "metadata": {},
   "source": [
    "Planning a vacation, trip, party or other events? Then you need to know how the weather affects your event.\n",
    "\n",
    "The weather status is important as well for road safety, it affects directly the number of road accidents. The emergency department in every hospital takes in their consideration the weather status as well, they have a peak in their patients number in the seasonal time.\n",
    "\n",
    "So knowing the weather status is important for several aspects of our life. Checking the weather forecast is easy if try it for next Tuesday, but what if you are planning a big outdoor wedding for spring 2022 or your class reunion for next winter? \n",
    "\n",
    "Here we are trying to collect historical weather patterns for Saudi Arabia to be able to use it later in forecasting weather conditions that you can expect for any location and at any date, even one far into the future.\n",
    "\n",
    "-----------"
   ]
  },
  {
   "cell_type": "markdown",
   "metadata": {},
   "source": [
    "For the weather status, we collect following info:\n",
    "- Date\n",
    "- Time\n",
    "- Temperature\n",
    "- Weather description ( clear - sunny - .... )\n",
    "- Wind speed\n",
    "- Humidity\n",
    "- Barometer (atmospheric pressure)\n",
    "- Visibility (how much be able to see or be seen)"
   ]
  },
  {
   "cell_type": "markdown",
   "metadata": {},
   "source": [
    "-----"
   ]
  },
  {
   "cell_type": "markdown",
   "metadata": {},
   "source": [
    "We use this [weather website](https://www.timeanddate.com/weather/) to collect hourly weather data from **2017** to **2019** for all kingdom main cities:\n",
    "- Qassim\n",
    "- Hail\n",
    "- Madina\n",
    "- EP\n",
    "- Riyadh\n",
    "- Mecca\n",
    "- Tabuk\n",
    "- Assir\n",
    "- Northern boarder\n",
    "- Jazan\n",
    "- Najran\n",
    "- Baha\n",
    "- Jawf\n",
    "\n",
    "----------"
   ]
  },
  {
   "cell_type": "code",
   "execution_count": 1,
   "metadata": {},
   "outputs": [],
   "source": [
    "# import libraries\n",
    "import requests\n",
    "import pandas as pd\n",
    "from time import sleep"
   ]
  },
  {
   "cell_type": "code",
   "execution_count": 2,
   "metadata": {},
   "outputs": [],
   "source": [
    "# import web scraping libraries\n",
    "from bs4 import BeautifulSoup\n",
    "from selenium import webdriver\n",
    "from selenium.webdriver.common.keys import Keys\n",
    "from selenium.webdriver.support.select import Select"
   ]
  },
  {
   "cell_type": "code",
   "execution_count": 3,
   "metadata": {},
   "outputs": [],
   "source": [
    "# set the main URL for scaping\n",
    "root_url = 'https://www.timeanddate.com/weather/{}/historic?month={}&year={}'"
   ]
  },
  {
   "cell_type": "markdown",
   "metadata": {},
   "source": [
    "----\n",
    "\n",
    "**To be able to request a city weather data, we need to add 3 parameters on the root URL:**\n",
    "- City name or code: on our weather website, there is a name or code for each city. you should use it  during the search on the website to get city weather data (I have collected them manually from the site)\n",
    "- Month: it would be (1 to 12)\n",
    "- Year: it would be (2017 to 2019)\n",
    "\n",
    "----"
   ]
  },
  {
   "cell_type": "code",
   "execution_count": 5,
   "metadata": {},
   "outputs": [],
   "source": [
    "# dictionary for all cities name with corresponding code or name on the requested URL\n",
    "cities_url = {'Qassim': '@108932' ,\n",
    "              'Hail': '@106281',\n",
    "              'Madina': 'saudi-arabia/medina',\n",
    "              'EP': 'saudi-arabia/dammam',\n",
    "              'Riyadh': 'saudi-arabia/riyadh' ,\n",
    "              'Mecca': 'saudi-arabia/makkah',\n",
    "              'Tabuk': 'saudi-arabia/tabuk',\n",
    "              'Assir':  'saudi-arabia/khamis-mushait',\n",
    "              'Northern boarder': 'saudi-arabia/rafha',\n",
    "              'Jazan': '@10972356',\n",
    "              'Najran': '@103631',\n",
    "              'Baha': '@109953',\n",
    "              'Jawf': '@109468'}"
   ]
  },
  {
   "cell_type": "code",
   "execution_count": 4,
   "metadata": {},
   "outputs": [],
   "source": [
    "# create a webdriver object to start crawling on the weather website\n",
    "# we used here chrome driver \n",
    "driver = webdriver.Chrome(executable_path='./chromedriver/chromedriver')"
   ]
  },
  {
   "cell_type": "code",
   "execution_count": 6,
   "metadata": {},
   "outputs": [],
   "source": [
    "# create empty dataframe to store collected weather data\n",
    "df = pd.DataFrame()"
   ]
  },
  {
   "cell_type": "code",
   "execution_count": 8,
   "metadata": {},
   "outputs": [],
   "source": [
    "## loop over all cities\n",
    "for city, url in cities_url.items(): \n",
    "    \n",
    "    # loop over all years\n",
    "    for year in [2017, 2018, 2019]:\n",
    "        \n",
    "        # loop over all months\n",
    "        for month in range(1,13):\n",
    "\n",
    "            # set up the city URL with 3 required parameters\n",
    "            driver.get(root_url.format(url, month, year))\n",
    "            \n",
    "            # retrieve drop-down list for available days\n",
    "            select_fr = Select(driver.find_element_by_id(\"wt-his-select\"))\n",
    "\n",
    "            # loop over all days\n",
    "            for ind, day in enumerate(select_fr.options):\n",
    "\n",
    "                select_fr.select_by_index(ind)\n",
    "                #sleep(0.5)\n",
    "                \n",
    "                # retrieve html page \n",
    "                HTML = driver.page_source\n",
    "                \n",
    "                # create beautiful soup object to start parsing html tags and get required info\n",
    "                soup = BeautifulSoup(HTML, 'html.parser')\n",
    "                \n",
    "                # retrieve main table of weather status\n",
    "                table = soup.find_all(name='tbody')[1].find_all(name='tr')\n",
    "                \n",
    "                # loop over hours\n",
    "                for hour in table:\n",
    "                    \n",
    "                    # create an empty list to be a row in the dataframe\n",
    "                    row = []\n",
    "                    \n",
    "                    # save city, year, month, day in our row list\n",
    "                    row.extend([city, year, month, day.text])\n",
    "                    \n",
    "                    # save other weather information (temperature, weather desc, wind, humidity, barometer, visibility)\n",
    "                    row.append(hour.find(name='th').text[:5])\n",
    "                    for info in hour.find_all(name='td'):\n",
    "                        row.append(info.text)\n",
    "                        \n",
    "                    # add collected data for this hour to our dataframe\n",
    "                    df = df.append([row])\n"
   ]
  },
  {
   "cell_type": "code",
   "execution_count": 30,
   "metadata": {},
   "outputs": [],
   "source": [
    "# assign columns name\n",
    "df.columns= ['city', 'year', 'month', 'date', 'time', 'temp', 'weather', 'wind', 'humidity', 'barometer', 'visibility']"
   ]
  },
  {
   "cell_type": "code",
   "execution_count": 31,
   "metadata": {},
   "outputs": [
    {
     "data": {
      "text/html": [
       "<div>\n",
       "<style scoped>\n",
       "    .dataframe tbody tr th:only-of-type {\n",
       "        vertical-align: middle;\n",
       "    }\n",
       "\n",
       "    .dataframe tbody tr th {\n",
       "        vertical-align: top;\n",
       "    }\n",
       "\n",
       "    .dataframe thead th {\n",
       "        text-align: right;\n",
       "    }\n",
       "</style>\n",
       "<table border=\"1\" class=\"dataframe\">\n",
       "  <thead>\n",
       "    <tr style=\"text-align: right;\">\n",
       "      <th></th>\n",
       "      <th>city</th>\n",
       "      <th>year</th>\n",
       "      <th>month</th>\n",
       "      <th>date</th>\n",
       "      <th>time</th>\n",
       "      <th>temp</th>\n",
       "      <th>weather</th>\n",
       "      <th>wind</th>\n",
       "      <th>humidity</th>\n",
       "      <th>barometer</th>\n",
       "      <th>visibility</th>\n",
       "    </tr>\n",
       "  </thead>\n",
       "  <tbody>\n",
       "    <tr>\n",
       "      <th>0</th>\n",
       "      <td>Qassim</td>\n",
       "      <td>2017.0</td>\n",
       "      <td>1.0</td>\n",
       "      <td>1 January 2017</td>\n",
       "      <td>00:00</td>\n",
       "      <td>17 °C</td>\n",
       "      <td>Clear.</td>\n",
       "      <td>11 km/h</td>\n",
       "      <td>64%</td>\n",
       "      <td>1018 mbar</td>\n",
       "      <td>16 km</td>\n",
       "    </tr>\n",
       "    <tr>\n",
       "      <th>1</th>\n",
       "      <td>Qassim</td>\n",
       "      <td>2017.0</td>\n",
       "      <td>1.0</td>\n",
       "      <td>1 January 2017</td>\n",
       "      <td>01:00</td>\n",
       "      <td>17 °C</td>\n",
       "      <td>Clear.</td>\n",
       "      <td>6 km/h</td>\n",
       "      <td>64%</td>\n",
       "      <td>1018 mbar</td>\n",
       "      <td>16 km</td>\n",
       "    </tr>\n",
       "    <tr>\n",
       "      <th>2</th>\n",
       "      <td>Qassim</td>\n",
       "      <td>2017.0</td>\n",
       "      <td>1.0</td>\n",
       "      <td>1 January 2017</td>\n",
       "      <td>03:00</td>\n",
       "      <td>15 °C</td>\n",
       "      <td>Clear.</td>\n",
       "      <td>11 km/h</td>\n",
       "      <td>72%</td>\n",
       "      <td>1019 mbar</td>\n",
       "      <td>16 km</td>\n",
       "    </tr>\n",
       "    <tr>\n",
       "      <th>3</th>\n",
       "      <td>Qassim</td>\n",
       "      <td>2017.0</td>\n",
       "      <td>1.0</td>\n",
       "      <td>1 January 2017</td>\n",
       "      <td>04:00</td>\n",
       "      <td>15 °C</td>\n",
       "      <td>Clear.</td>\n",
       "      <td>11 km/h</td>\n",
       "      <td>72%</td>\n",
       "      <td>1019 mbar</td>\n",
       "      <td>16 km</td>\n",
       "    </tr>\n",
       "    <tr>\n",
       "      <th>4</th>\n",
       "      <td>Qassim</td>\n",
       "      <td>2017.0</td>\n",
       "      <td>1.0</td>\n",
       "      <td>1 January 2017</td>\n",
       "      <td>05:00</td>\n",
       "      <td>15 °C</td>\n",
       "      <td>Clear.</td>\n",
       "      <td>9 km/h</td>\n",
       "      <td>72%</td>\n",
       "      <td>1019 mbar</td>\n",
       "      <td>16 km</td>\n",
       "    </tr>\n",
       "  </tbody>\n",
       "</table>\n",
       "</div>"
      ],
      "text/plain": [
       "     city    year  month            date   time   temp weather     wind  \\\n",
       "0  Qassim  2017.0    1.0  1 January 2017  00:00  17 °C  Clear.  11 km/h   \n",
       "1  Qassim  2017.0    1.0  1 January 2017  01:00  17 °C  Clear.   6 km/h   \n",
       "2  Qassim  2017.0    1.0  1 January 2017  03:00  15 °C  Clear.  11 km/h   \n",
       "3  Qassim  2017.0    1.0  1 January 2017  04:00  15 °C  Clear.  11 km/h   \n",
       "4  Qassim  2017.0    1.0  1 January 2017  05:00  15 °C  Clear.   9 km/h   \n",
       "\n",
       "  humidity  barometer visibility  \n",
       "0      64%  1018 mbar      16 km  \n",
       "1      64%  1018 mbar      16 km  \n",
       "2      72%  1019 mbar      16 km  \n",
       "3      72%  1019 mbar      16 km  \n",
       "4      72%  1019 mbar      16 km  "
      ]
     },
     "execution_count": 31,
     "metadata": {},
     "output_type": "execute_result"
    }
   ],
   "source": [
    "# check first 5 rows in our dataframe\n",
    "df.head()"
   ]
  },
  {
   "cell_type": "code",
   "execution_count": 10,
   "metadata": {},
   "outputs": [
    {
     "data": {
      "text/plain": [
       "(249023, 12)"
      ]
     },
     "execution_count": 10,
     "metadata": {},
     "output_type": "execute_result"
    }
   ],
   "source": [
    "# check dataframe size\n",
    "df.shape"
   ]
  },
  {
   "cell_type": "code",
   "execution_count": 32,
   "metadata": {},
   "outputs": [
    {
     "data": {
      "text/plain": [
       "city           object\n",
       "year          float64\n",
       "month         float64\n",
       "date           object\n",
       "time           object\n",
       "temp           object\n",
       "weather        object\n",
       "wind           object\n",
       "humidity       object\n",
       "barometer      object\n",
       "visibility     object\n",
       "dtype: object"
      ]
     },
     "execution_count": 32,
     "metadata": {},
     "output_type": "execute_result"
    }
   ],
   "source": [
    "# check columns types\n",
    "df.dtypes"
   ]
  },
  {
   "cell_type": "code",
   "execution_count": 12,
   "metadata": {},
   "outputs": [],
   "source": [
    "# save the dataframe as csv file \n",
    "df.to_csv('weather-sa-2017-2019.csv')"
   ]
  },
  {
   "cell_type": "markdown",
   "metadata": {},
   "source": [
    "> After finishing the scraping part, we have 249023 recorded hourly weather status. As we can see above our collected data needs some cleaning such as removing special characters and change columns type and so on."
   ]
  },
  {
   "cell_type": "code",
   "execution_count": 29,
   "metadata": {},
   "outputs": [],
   "source": [
    "# re-load the data from the file \n",
    "df = pd.read_csv('weather-sa-2017-2019.csv', index_col=0)"
   ]
  },
  {
   "cell_type": "code",
   "execution_count": 33,
   "metadata": {},
   "outputs": [],
   "source": [
    "# change year, month columns type to integer\n",
    "df['year'] = df['year'].astype('int')\n",
    "df['month'] = df['month'].astype('int')"
   ]
  },
  {
   "cell_type": "code",
   "execution_count": 34,
   "metadata": {},
   "outputs": [
    {
     "data": {
      "text/html": [
       "<div>\n",
       "<style scoped>\n",
       "    .dataframe tbody tr th:only-of-type {\n",
       "        vertical-align: middle;\n",
       "    }\n",
       "\n",
       "    .dataframe tbody tr th {\n",
       "        vertical-align: top;\n",
       "    }\n",
       "\n",
       "    .dataframe thead th {\n",
       "        text-align: right;\n",
       "    }\n",
       "</style>\n",
       "<table border=\"1\" class=\"dataframe\">\n",
       "  <thead>\n",
       "    <tr style=\"text-align: right;\">\n",
       "      <th></th>\n",
       "      <th>city</th>\n",
       "      <th>year</th>\n",
       "      <th>month</th>\n",
       "      <th>date</th>\n",
       "      <th>time</th>\n",
       "      <th>temp</th>\n",
       "      <th>weather</th>\n",
       "      <th>wind</th>\n",
       "      <th>humidity</th>\n",
       "      <th>barometer</th>\n",
       "      <th>visibility</th>\n",
       "    </tr>\n",
       "  </thead>\n",
       "  <tbody>\n",
       "    <tr>\n",
       "      <th>0</th>\n",
       "      <td>Qassim</td>\n",
       "      <td>2017</td>\n",
       "      <td>1</td>\n",
       "      <td>1 January 2017</td>\n",
       "      <td>00:00</td>\n",
       "      <td>17 °C</td>\n",
       "      <td>Clear.</td>\n",
       "      <td>11 km/h</td>\n",
       "      <td>64%</td>\n",
       "      <td>1018 mbar</td>\n",
       "      <td>16 km</td>\n",
       "    </tr>\n",
       "    <tr>\n",
       "      <th>1</th>\n",
       "      <td>Qassim</td>\n",
       "      <td>2017</td>\n",
       "      <td>1</td>\n",
       "      <td>1 January 2017</td>\n",
       "      <td>01:00</td>\n",
       "      <td>17 °C</td>\n",
       "      <td>Clear.</td>\n",
       "      <td>6 km/h</td>\n",
       "      <td>64%</td>\n",
       "      <td>1018 mbar</td>\n",
       "      <td>16 km</td>\n",
       "    </tr>\n",
       "    <tr>\n",
       "      <th>2</th>\n",
       "      <td>Qassim</td>\n",
       "      <td>2017</td>\n",
       "      <td>1</td>\n",
       "      <td>1 January 2017</td>\n",
       "      <td>03:00</td>\n",
       "      <td>15 °C</td>\n",
       "      <td>Clear.</td>\n",
       "      <td>11 km/h</td>\n",
       "      <td>72%</td>\n",
       "      <td>1019 mbar</td>\n",
       "      <td>16 km</td>\n",
       "    </tr>\n",
       "  </tbody>\n",
       "</table>\n",
       "</div>"
      ],
      "text/plain": [
       "     city  year  month            date   time   temp weather     wind  \\\n",
       "0  Qassim  2017      1  1 January 2017  00:00  17 °C  Clear.  11 km/h   \n",
       "1  Qassim  2017      1  1 January 2017  01:00  17 °C  Clear.   6 km/h   \n",
       "2  Qassim  2017      1  1 January 2017  03:00  15 °C  Clear.  11 km/h   \n",
       "\n",
       "  humidity  barometer visibility  \n",
       "0      64%  1018 mbar      16 km  \n",
       "1      64%  1018 mbar      16 km  \n",
       "2      72%  1019 mbar      16 km  "
      ]
     },
     "execution_count": 34,
     "metadata": {},
     "output_type": "execute_result"
    }
   ],
   "source": [
    "# check dataframe after fixing year, month types\n",
    "df.head(3)"
   ]
  },
  {
   "cell_type": "code",
   "execution_count": 35,
   "metadata": {},
   "outputs": [],
   "source": [
    "# create day column\n",
    "df['day'] = df['date'].map(lambda x: int(x.split(' ')[0]))"
   ]
  },
  {
   "cell_type": "code",
   "execution_count": 37,
   "metadata": {},
   "outputs": [],
   "source": [
    "# create hour column \n",
    "df['hour'] = df['time'].map(lambda x: int(x.split(':')[0]))\n",
    "df['hour'] = df['hour'].map(lambda x: 24 if x == 0 else x)"
   ]
  },
  {
   "cell_type": "code",
   "execution_count": 39,
   "metadata": {},
   "outputs": [],
   "source": [
    "# create minutes column\n",
    "df['minute'] = df['time'].map(lambda x: int(x.split(':')[1]))"
   ]
  },
  {
   "cell_type": "code",
   "execution_count": 40,
   "metadata": {},
   "outputs": [],
   "source": [
    "# remove '°C' from temp column and fix its type\n",
    "df.temp = df.temp.map(lambda x: x.replace('\\xa0',' '))\n",
    "df.temp = df.temp.map(lambda x: int(x.split(' ')[0]))"
   ]
  },
  {
   "cell_type": "code",
   "execution_count": 41,
   "metadata": {},
   "outputs": [],
   "source": [
    "# remove '.' from weather column\n",
    "df.weather = df.weather.map(lambda x: x.replace('.',' '))"
   ]
  },
  {
   "cell_type": "code",
   "execution_count": 42,
   "metadata": {
    "scrolled": true
   },
   "outputs": [
    {
     "data": {
      "text/html": [
       "<div>\n",
       "<style scoped>\n",
       "    .dataframe tbody tr th:only-of-type {\n",
       "        vertical-align: middle;\n",
       "    }\n",
       "\n",
       "    .dataframe tbody tr th {\n",
       "        vertical-align: top;\n",
       "    }\n",
       "\n",
       "    .dataframe thead th {\n",
       "        text-align: right;\n",
       "    }\n",
       "</style>\n",
       "<table border=\"1\" class=\"dataframe\">\n",
       "  <thead>\n",
       "    <tr style=\"text-align: right;\">\n",
       "      <th></th>\n",
       "      <th>city</th>\n",
       "      <th>year</th>\n",
       "      <th>month</th>\n",
       "      <th>date</th>\n",
       "      <th>time</th>\n",
       "      <th>temp</th>\n",
       "      <th>weather</th>\n",
       "      <th>wind</th>\n",
       "      <th>humidity</th>\n",
       "      <th>barometer</th>\n",
       "      <th>visibility</th>\n",
       "      <th>day</th>\n",
       "      <th>hour</th>\n",
       "      <th>minute</th>\n",
       "    </tr>\n",
       "  </thead>\n",
       "  <tbody>\n",
       "    <tr>\n",
       "      <th>0</th>\n",
       "      <td>Qassim</td>\n",
       "      <td>2017</td>\n",
       "      <td>1</td>\n",
       "      <td>1 January 2017</td>\n",
       "      <td>00:00</td>\n",
       "      <td>17</td>\n",
       "      <td>Clear</td>\n",
       "      <td>11 km/h</td>\n",
       "      <td>64%</td>\n",
       "      <td>1018 mbar</td>\n",
       "      <td>16 km</td>\n",
       "      <td>1</td>\n",
       "      <td>24</td>\n",
       "      <td>0</td>\n",
       "    </tr>\n",
       "    <tr>\n",
       "      <th>1</th>\n",
       "      <td>Qassim</td>\n",
       "      <td>2017</td>\n",
       "      <td>1</td>\n",
       "      <td>1 January 2017</td>\n",
       "      <td>01:00</td>\n",
       "      <td>17</td>\n",
       "      <td>Clear</td>\n",
       "      <td>6 km/h</td>\n",
       "      <td>64%</td>\n",
       "      <td>1018 mbar</td>\n",
       "      <td>16 km</td>\n",
       "      <td>1</td>\n",
       "      <td>1</td>\n",
       "      <td>0</td>\n",
       "    </tr>\n",
       "    <tr>\n",
       "      <th>2</th>\n",
       "      <td>Qassim</td>\n",
       "      <td>2017</td>\n",
       "      <td>1</td>\n",
       "      <td>1 January 2017</td>\n",
       "      <td>03:00</td>\n",
       "      <td>15</td>\n",
       "      <td>Clear</td>\n",
       "      <td>11 km/h</td>\n",
       "      <td>72%</td>\n",
       "      <td>1019 mbar</td>\n",
       "      <td>16 km</td>\n",
       "      <td>1</td>\n",
       "      <td>3</td>\n",
       "      <td>0</td>\n",
       "    </tr>\n",
       "  </tbody>\n",
       "</table>\n",
       "</div>"
      ],
      "text/plain": [
       "     city  year  month            date   time  temp weather     wind humidity  \\\n",
       "0  Qassim  2017      1  1 January 2017  00:00    17  Clear   11 km/h      64%   \n",
       "1  Qassim  2017      1  1 January 2017  01:00    17  Clear    6 km/h      64%   \n",
       "2  Qassim  2017      1  1 January 2017  03:00    15  Clear   11 km/h      72%   \n",
       "\n",
       "   barometer visibility  day  hour  minute  \n",
       "0  1018 mbar      16 km    1    24       0  \n",
       "1  1018 mbar      16 km    1     1       0  \n",
       "2  1019 mbar      16 km    1     3       0  "
      ]
     },
     "execution_count": 42,
     "metadata": {},
     "output_type": "execute_result"
    }
   ],
   "source": [
    "# check dataframe after fixing previous columns\n",
    "df.head(3)"
   ]
  },
  {
   "cell_type": "code",
   "execution_count": 43,
   "metadata": {},
   "outputs": [
    {
     "data": {
      "text/plain": [
       "109"
      ]
     },
     "execution_count": 43,
     "metadata": {},
     "output_type": "execute_result"
    }
   ],
   "source": [
    "# check missing values on wind column\n",
    "df.wind.isnull().sum()"
   ]
  },
  {
   "cell_type": "code",
   "execution_count": 44,
   "metadata": {},
   "outputs": [],
   "source": [
    "# fill missing values with '-1 km/h'\n",
    "df.wind.fillna('-1 km/h', inplace=True)"
   ]
  },
  {
   "cell_type": "code",
   "execution_count": 46,
   "metadata": {},
   "outputs": [],
   "source": [
    "# replace 'No wind' with '0 km/h' to be able to change column type to integer\n",
    "df.wind = df.wind.map(lambda x: str(x).replace('No wind','0 km/h'))\n",
    "df.wind = df.wind.map(lambda x: int(str(x).split(' ')[0]))"
   ]
  },
  {
   "cell_type": "code",
   "execution_count": 47,
   "metadata": {
    "scrolled": true
   },
   "outputs": [
    {
     "data": {
      "text/plain": [
       "17"
      ]
     },
     "execution_count": 47,
     "metadata": {},
     "output_type": "execute_result"
    }
   ],
   "source": [
    "# check missing values on humidity column\n",
    "df.humidity.isnull().sum()"
   ]
  },
  {
   "cell_type": "code",
   "execution_count": null,
   "metadata": {},
   "outputs": [],
   "source": [
    "# fill missing values with '-1%'\n",
    "df.humidity.fillna('-1%', inplace=True)"
   ]
  },
  {
   "cell_type": "code",
   "execution_count": null,
   "metadata": {},
   "outputs": [],
   "source": [
    "# remove '%' from humidity column\n",
    "df.humidity = df.humidity.map(lambda x: int(str(x).replace('%','')))"
   ]
  },
  {
   "cell_type": "code",
   "execution_count": 48,
   "metadata": {},
   "outputs": [],
   "source": [
    "# remove 'mbar' from barometer column\n",
    "df.barometer = df.barometer.map(lambda x: str(x).split(' ')[0])"
   ]
  },
  {
   "cell_type": "code",
   "execution_count": 49,
   "metadata": {},
   "outputs": [
    {
     "data": {
      "text/plain": [
       "49644"
      ]
     },
     "execution_count": 49,
     "metadata": {},
     "output_type": "execute_result"
    }
   ],
   "source": [
    "# check missing values on visibility column\n",
    "df.visibility.isnull().sum()"
   ]
  },
  {
   "cell_type": "code",
   "execution_count": 50,
   "metadata": {},
   "outputs": [],
   "source": [
    "# fill missing values with '-1 km'\n",
    "df.visibility.fillna('-1 km', inplace=True)"
   ]
  },
  {
   "cell_type": "code",
   "execution_count": 51,
   "metadata": {},
   "outputs": [],
   "source": [
    "# remove 'km' from visibility column\n",
    "df.visibility = df.visibility.map(lambda x: int(str(x).split('km')[0]))"
   ]
  },
  {
   "cell_type": "code",
   "execution_count": 52,
   "metadata": {},
   "outputs": [
    {
     "data": {
      "text/html": [
       "<div>\n",
       "<style scoped>\n",
       "    .dataframe tbody tr th:only-of-type {\n",
       "        vertical-align: middle;\n",
       "    }\n",
       "\n",
       "    .dataframe tbody tr th {\n",
       "        vertical-align: top;\n",
       "    }\n",
       "\n",
       "    .dataframe thead th {\n",
       "        text-align: right;\n",
       "    }\n",
       "</style>\n",
       "<table border=\"1\" class=\"dataframe\">\n",
       "  <thead>\n",
       "    <tr style=\"text-align: right;\">\n",
       "      <th></th>\n",
       "      <th>city</th>\n",
       "      <th>year</th>\n",
       "      <th>month</th>\n",
       "      <th>date</th>\n",
       "      <th>time</th>\n",
       "      <th>temp</th>\n",
       "      <th>weather</th>\n",
       "      <th>wind</th>\n",
       "      <th>humidity</th>\n",
       "      <th>barometer</th>\n",
       "      <th>visibility</th>\n",
       "      <th>day</th>\n",
       "      <th>hour</th>\n",
       "      <th>minute</th>\n",
       "    </tr>\n",
       "  </thead>\n",
       "  <tbody>\n",
       "    <tr>\n",
       "      <th>0</th>\n",
       "      <td>Qassim</td>\n",
       "      <td>2017</td>\n",
       "      <td>1</td>\n",
       "      <td>1 January 2017</td>\n",
       "      <td>00:00</td>\n",
       "      <td>17</td>\n",
       "      <td>Clear</td>\n",
       "      <td>11</td>\n",
       "      <td>64%</td>\n",
       "      <td>1018</td>\n",
       "      <td>16</td>\n",
       "      <td>1</td>\n",
       "      <td>24</td>\n",
       "      <td>0</td>\n",
       "    </tr>\n",
       "    <tr>\n",
       "      <th>1</th>\n",
       "      <td>Qassim</td>\n",
       "      <td>2017</td>\n",
       "      <td>1</td>\n",
       "      <td>1 January 2017</td>\n",
       "      <td>01:00</td>\n",
       "      <td>17</td>\n",
       "      <td>Clear</td>\n",
       "      <td>6</td>\n",
       "      <td>64%</td>\n",
       "      <td>1018</td>\n",
       "      <td>16</td>\n",
       "      <td>1</td>\n",
       "      <td>1</td>\n",
       "      <td>0</td>\n",
       "    </tr>\n",
       "    <tr>\n",
       "      <th>2</th>\n",
       "      <td>Qassim</td>\n",
       "      <td>2017</td>\n",
       "      <td>1</td>\n",
       "      <td>1 January 2017</td>\n",
       "      <td>03:00</td>\n",
       "      <td>15</td>\n",
       "      <td>Clear</td>\n",
       "      <td>11</td>\n",
       "      <td>72%</td>\n",
       "      <td>1019</td>\n",
       "      <td>16</td>\n",
       "      <td>1</td>\n",
       "      <td>3</td>\n",
       "      <td>0</td>\n",
       "    </tr>\n",
       "  </tbody>\n",
       "</table>\n",
       "</div>"
      ],
      "text/plain": [
       "     city  year  month            date   time  temp weather  wind humidity  \\\n",
       "0  Qassim  2017      1  1 January 2017  00:00    17  Clear     11      64%   \n",
       "1  Qassim  2017      1  1 January 2017  01:00    17  Clear      6      64%   \n",
       "2  Qassim  2017      1  1 January 2017  03:00    15  Clear     11      72%   \n",
       "\n",
       "  barometer  visibility  day  hour  minute  \n",
       "0      1018          16    1    24       0  \n",
       "1      1018          16    1     1       0  \n",
       "2      1019          16    1     3       0  "
      ]
     },
     "execution_count": 52,
     "metadata": {},
     "output_type": "execute_result"
    }
   ],
   "source": [
    "# check dataframe after fixing previous columns\n",
    "df.head(3)"
   ]
  },
  {
   "cell_type": "code",
   "execution_count": 53,
   "metadata": {},
   "outputs": [],
   "source": [
    "# change the order of columns\n",
    "df = df[['city', 'date', 'time', 'year', 'month', 'day', 'hour', 'minute', 'weather', 'temp', 'wind', 'humidity', 'barometer', 'visibility']]"
   ]
  },
  {
   "cell_type": "code",
   "execution_count": 54,
   "metadata": {},
   "outputs": [
    {
     "data": {
      "text/html": [
       "<div>\n",
       "<style scoped>\n",
       "    .dataframe tbody tr th:only-of-type {\n",
       "        vertical-align: middle;\n",
       "    }\n",
       "\n",
       "    .dataframe tbody tr th {\n",
       "        vertical-align: top;\n",
       "    }\n",
       "\n",
       "    .dataframe thead th {\n",
       "        text-align: right;\n",
       "    }\n",
       "</style>\n",
       "<table border=\"1\" class=\"dataframe\">\n",
       "  <thead>\n",
       "    <tr style=\"text-align: right;\">\n",
       "      <th></th>\n",
       "      <th>city</th>\n",
       "      <th>date</th>\n",
       "      <th>time</th>\n",
       "      <th>year</th>\n",
       "      <th>month</th>\n",
       "      <th>day</th>\n",
       "      <th>hour</th>\n",
       "      <th>minute</th>\n",
       "      <th>weather</th>\n",
       "      <th>temp</th>\n",
       "      <th>wind</th>\n",
       "      <th>humidity</th>\n",
       "      <th>barometer</th>\n",
       "      <th>visibility</th>\n",
       "    </tr>\n",
       "  </thead>\n",
       "  <tbody>\n",
       "    <tr>\n",
       "      <th>0</th>\n",
       "      <td>Qassim</td>\n",
       "      <td>1 January 2017</td>\n",
       "      <td>00:00</td>\n",
       "      <td>2017</td>\n",
       "      <td>1</td>\n",
       "      <td>1</td>\n",
       "      <td>24</td>\n",
       "      <td>0</td>\n",
       "      <td>Clear</td>\n",
       "      <td>17</td>\n",
       "      <td>11</td>\n",
       "      <td>64%</td>\n",
       "      <td>1018</td>\n",
       "      <td>16</td>\n",
       "    </tr>\n",
       "    <tr>\n",
       "      <th>1</th>\n",
       "      <td>Qassim</td>\n",
       "      <td>1 January 2017</td>\n",
       "      <td>01:00</td>\n",
       "      <td>2017</td>\n",
       "      <td>1</td>\n",
       "      <td>1</td>\n",
       "      <td>1</td>\n",
       "      <td>0</td>\n",
       "      <td>Clear</td>\n",
       "      <td>17</td>\n",
       "      <td>6</td>\n",
       "      <td>64%</td>\n",
       "      <td>1018</td>\n",
       "      <td>16</td>\n",
       "    </tr>\n",
       "    <tr>\n",
       "      <th>2</th>\n",
       "      <td>Qassim</td>\n",
       "      <td>1 January 2017</td>\n",
       "      <td>03:00</td>\n",
       "      <td>2017</td>\n",
       "      <td>1</td>\n",
       "      <td>1</td>\n",
       "      <td>3</td>\n",
       "      <td>0</td>\n",
       "      <td>Clear</td>\n",
       "      <td>15</td>\n",
       "      <td>11</td>\n",
       "      <td>72%</td>\n",
       "      <td>1019</td>\n",
       "      <td>16</td>\n",
       "    </tr>\n",
       "  </tbody>\n",
       "</table>\n",
       "</div>"
      ],
      "text/plain": [
       "     city            date   time  year  month  day  hour  minute weather  \\\n",
       "0  Qassim  1 January 2017  00:00  2017      1    1    24       0  Clear    \n",
       "1  Qassim  1 January 2017  01:00  2017      1    1     1       0  Clear    \n",
       "2  Qassim  1 January 2017  03:00  2017      1    1     3       0  Clear    \n",
       "\n",
       "   temp  wind humidity barometer  visibility  \n",
       "0    17    11      64%      1018          16  \n",
       "1    17     6      64%      1018          16  \n",
       "2    15    11      72%      1019          16  "
      ]
     },
     "execution_count": 54,
     "metadata": {},
     "output_type": "execute_result"
    }
   ],
   "source": [
    "# check dataframe after fixing previous columns\n",
    "df.head(3)"
   ]
  },
  {
   "cell_type": "code",
   "execution_count": 55,
   "metadata": {},
   "outputs": [],
   "source": [
    "# save dataframe after cleaning\n",
    "df.to_csv('weather-sa-2017-2019-clean.csv')"
   ]
  },
  {
   "cell_type": "markdown",
   "metadata": {},
   "source": [
    "----------"
   ]
  },
  {
   "cell_type": "markdown",
   "metadata": {},
   "source": [
    "**You can find the clean data on [kaggle](https://www.kaggle.com/esraamadi/saudi-arabia-weather-history)**"
   ]
  }
 ],
 "metadata": {
  "kernelspec": {
   "display_name": "Python 3",
   "language": "python",
   "name": "python3"
  },
  "language_info": {
   "codemirror_mode": {
    "name": "ipython",
    "version": 3
   },
   "file_extension": ".py",
   "mimetype": "text/x-python",
   "name": "python",
   "nbconvert_exporter": "python",
   "pygments_lexer": "ipython3",
   "version": "3.6.5"
  }
 },
 "nbformat": 4,
 "nbformat_minor": 2
}
